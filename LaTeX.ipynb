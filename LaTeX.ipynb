{
 "cells": [
  {
   "cell_type": "markdown",
   "metadata": {},
   "source": [
    "# Markdown"
   ]
  },
  {
   "cell_type": "markdown",
   "metadata": {},
   "source": [
    "***"
   ]
  },
  {
   "cell_type": "markdown",
   "metadata": {},
   "source": [
    "## Headings"
   ]
  },
  {
   "cell_type": "markdown",
   "metadata": {},
   "source": [
    "# H1\n",
    "## H2\n",
    "### H3\n",
    "#### H4\n",
    "##### H5\n",
    "###### H6"
   ]
  },
  {
   "cell_type": "markdown",
   "metadata": {},
   "source": [
    "***"
   ]
  },
  {
   "cell_type": "markdown",
   "metadata": {},
   "source": [
    "## Fond Styles"
   ]
  },
  {
   "cell_type": "markdown",
   "metadata": {},
   "source": [
    "**Bold Font** or __Bold Font__"
   ]
  },
  {
   "cell_type": "markdown",
   "metadata": {},
   "source": [
    "**Bold Font** or __Bold Font__"
   ]
  },
  {
   "cell_type": "markdown",
   "metadata": {},
   "source": [
    "*Italic Font*"
   ]
  },
  {
   "cell_type": "markdown",
   "metadata": {},
   "source": [
    "*Italic Font*"
   ]
  },
  {
   "cell_type": "markdown",
   "metadata": {},
   "source": [
    "~~Scratched Text~~"
   ]
  },
  {
   "cell_type": "markdown",
   "metadata": {},
   "source": [
    "~~Scratched Text~~"
   ]
  },
  {
   "cell_type": "markdown",
   "metadata": {},
   "source": [
    "Markdown doesn't support underline, but can use:"
   ]
  },
  {
   "cell_type": "markdown",
   "metadata": {},
   "source": [
    "<u> Underlined Text </u>"
   ]
  },
  {
   "cell_type": "markdown",
   "metadata": {},
   "source": [
    "***"
   ]
  },
  {
   "cell_type": "markdown",
   "metadata": {},
   "source": [
    "## List"
   ]
  },
  {
   "cell_type": "markdown",
   "metadata": {},
   "source": [
    "1. dd\n",
    "2. ee\n",
    "    1. ff\n",
    "    2. gg\n",
    "3. hh"
   ]
  },
  {
   "cell_type": "markdown",
   "metadata": {},
   "source": [
    "***"
   ]
  },
  {
   "cell_type": "markdown",
   "metadata": {},
   "source": [
    "## Link"
   ]
  },
  {
   "cell_type": "markdown",
   "metadata": {},
   "source": [
    "http://github.com/"
   ]
  },
  {
   "cell_type": "markdown",
   "metadata": {},
   "source": [
    "[GitHub](http://www.github.com/)"
   ]
  },
  {
   "cell_type": "markdown",
   "metadata": {},
   "source": [
    "***"
   ]
  },
  {
   "cell_type": "markdown",
   "metadata": {},
   "source": [
    "## Images"
   ]
  },
  {
   "cell_type": "markdown",
   "metadata": {},
   "source": [
    "![Turing's Device](http://www.google.com/logos/2012/turing-doodle-static.jpg \"Alan Turing's 100th Birthday\")"
   ]
  },
  {
   "cell_type": "markdown",
   "metadata": {},
   "source": [
    "![Turing's Device](http://www.google.com/logos/2012/turing-doodle-static.jpg \"Alan Turing's 100th Birthday\")"
   ]
  },
  {
   "cell_type": "markdown",
   "metadata": {},
   "source": [
    "***"
   ]
  },
  {
   "cell_type": "markdown",
   "metadata": {},
   "source": [
    "## Horizontal Line"
   ]
  },
  {
   "cell_type": "markdown",
   "metadata": {},
   "source": [
    "---"
   ]
  },
  {
   "cell_type": "markdown",
   "metadata": {},
   "source": [
    "***"
   ]
  },
  {
   "cell_type": "markdown",
   "metadata": {},
   "source": [
    "## Tables"
   ]
  },
  {
   "cell_type": "markdown",
   "metadata": {},
   "source": [
    "| Tables      | Are       | Cool   |\n",
    "|-------------|:---------:|-------:|\n",
    "|col 3 is     |right-aligned| 1600 |\n",
    "|col 2 is     |centered   |12      |\n",
    "|zebra stripes|are neat   |1       |"
   ]
  },
  {
   "cell_type": "markdown",
   "metadata": {},
   "source": [
    "***"
   ]
  },
  {
   "cell_type": "markdown",
   "metadata": {},
   "source": [
    "## HTML"
   ]
  },
  {
   "cell_type": "markdown",
   "metadata": {},
   "source": [
    "<b> You </b> can <i> render </i> almost any <span style= \"color:red;\" >HTML</span> code you <u> like</u>."
   ]
  },
  {
   "cell_type": "markdown",
   "metadata": {},
   "source": [
    "<b> You </b> can <i> render </i> almost any <span style= \"color:red;\" >HTML</span> code you <u> like</u>."
   ]
  },
  {
   "cell_type": "markdown",
   "metadata": {},
   "source": [
    "***"
   ]
  },
  {
   "cell_type": "markdown",
   "metadata": {},
   "source": [
    "## LaTeX\n",
    "- a large typeset system for scientific documentation which symbols for mathematics, statistics, physics, quantum mechanics and computer science. "
   ]
  },
  {
   "cell_type": "markdown",
   "metadata": {},
   "source": [
    "The formula is $ x+y $ in **line** when single $ is used."
   ]
  },
  {
   "cell_type": "markdown",
   "metadata": {},
   "source": [
    "The formula $$ y = x^2 $$ is in **block** when double $$ is used."
   ]
  },
  {
   "cell_type": "markdown",
   "metadata": {},
   "source": [
    "$$ x + y $$"
   ]
  },
  {
   "cell_type": "markdown",
   "metadata": {},
   "source": [
    "- Add:\n",
    "    - $ x + y $\n",
    "- Subtract:\n",
    "    - $ x - y $\n",
    "- Multiply:\n",
    "    - $ x * y $\n",
    "    - $ x \\times y $\n",
    "    - $ x.y $\n",
    "- Divide:\n",
    "    - $ x / y $\n",
    "    - $ x \\div y $\n",
    "    - $ \\frac{x}{y} $"
   ]
  },
  {
   "cell_type": "markdown",
   "metadata": {},
   "source": [
    "### <u> Relations</u>"
   ]
  },
  {
   "cell_type": "markdown",
   "metadata": {},
   "source": [
    "$\\pi \\approx 3.14159 $"
   ]
  },
  {
   "cell_type": "markdown",
   "metadata": {},
   "source": [
    "$ {1 \\over 0} \\neq \\infty $"
   ]
  },
  {
   "cell_type": "markdown",
   "metadata": {},
   "source": [
    "$ 0 < x > 1 $"
   ]
  },
  {
   "cell_type": "markdown",
   "metadata": {},
   "source": [
    "$ 0 \\leq x \\geq 1 $"
   ]
  },
  {
   "cell_type": "markdown",
   "metadata": {},
   "source": [
    "### <u> Fractions</u>"
   ]
  },
  {
   "cell_type": "markdown",
   "metadata": {},
   "source": [
    "$ ^1/_2 $"
   ]
  },
  {
   "cell_type": "markdown",
   "metadata": {},
   "source": [
    "$ 3^1, 4_2$"
   ]
  },
  {
   "cell_type": "markdown",
   "metadata": {},
   "source": [
    "$ \\frac {1}{2x} $"
   ]
  },
  {
   "cell_type": "markdown",
   "metadata": {},
   "source": [
    "$ {3 \\over 4} $"
   ]
  },
  {
   "cell_type": "markdown",
   "metadata": {},
   "source": [
    "### <u> Greek Alphabet</u>"
   ]
  },
  {
   "cell_type": "markdown",
   "metadata": {},
   "source": [
    "| Small Letter  | Capital Letter | Alternative |\n",
    "|---------------|----------------|-------------|\n",
    "|$\\alpha$ \\alpha|$A$ A           |             |\n",
    "|$\\beta$  \\beta |$B$ B           |             |\n",
    "|$\\gamma$ \\gamma|$\\Gamma$ \\Gamma |             |\n",
    "|$\\delta$ \\delta|$\\Delta$ \\Delta |             |\n",
    "|$\\epsilon$ \\epsilon|$E$ E       |$\\varepsilon$ \\varepsilon|\n",
    "|$\\zeta$  \\zeta |$Z$ Z           |             |\n",
    "|$\\eta$   \\eta  |$H$ H           |             |\n",
    "|$\\theta$ \\theta|$\\Theta$ \\Theta |$\\vartheta$ \\vartheta|\n",
    "|$\\iota$  \\iota |$I$ I           |             |\n",
    "|$\\kappa$ \\kappa|$K$ K           |$\\varkappa$ \\varkappa|\n",
    "|$\\lambda$ \\lambda|$\\Lambda$ \\Lambda|          |\n",
    "|$\\mu$    \\mu   |$M$ M           |             |\n",
    "|$\\nu$    \\nu   |$N$ N           |             |\n",
    "|$\\xi$    \\xi   |$Xi$ Xi         |             |\n",
    "|$\\omicron$ \\omicron|$O$ O       |             |\n",
    "|$\\pi$    \\pi   |$\\Pi$ \\Pi       |$\\varpi$ \\varpi|\n",
    "|$\\rho$   \\rho  |$P$ P           |$\\varrho$ \\varrho|\n",
    "|$\\sigma$ \\sigma|$\\Sigma$ \\Sigma |$\\varsigma$ \\varsigma|\n",
    "|$\\tau$   \\tau  |$T$ T           |             |\n",
    "|$\\upsilon$ \\upsilon|$\\Upsilon$ \\Upsilon|      |\n",
    "|$\\phi$   \\phi  |$\\Phi$ \\Phi     |$\\varphi$ \\varphi|\n",
    "|$\\chi$   \\chi  |$\\Psi$ \\Psi     |             |\n",
    "|$\\omega$ \\omega|$\\Omega$ \\Omega |             |"
   ]
  },
  {
   "cell_type": "markdown",
   "metadata": {},
   "source": [
    "### <u> Power & Index</u>"
   ]
  },
  {
   "cell_type": "markdown",
   "metadata": {},
   "source": [
    "$$ f(x) = x^2 - x^{1 \\over \\pi} $$"
   ]
  },
  {
   "cell_type": "markdown",
   "metadata": {},
   "source": [
    "$$ f(X, n) = X_n + X_{n-1} $$"
   ]
  },
  {
   "cell_type": "markdown",
   "metadata": {},
   "source": [
    "### <u> Roots & Log</u>"
   ]
  },
  {
   "cell_type": "markdown",
   "metadata": {},
   "source": [
    "$$ f(x) = \\sqrt[3]{2x} + \\sqrt{x-2} $$"
   ]
  },
  {
   "cell_type": "markdown",
   "metadata": {},
   "source": [
    "$$ \\log_x x = 1 $$"
   ]
  },
  {
   "cell_type": "markdown",
   "metadata": {},
   "source": [
    "### <u> Sums & Products</u>"
   ]
  },
  {
   "cell_type": "markdown",
   "metadata": {},
   "source": [
    "$$ \\sum\\limits_{x=1}^{\\infty} {1 \\over x} = 2 $$"
   ]
  },
  {
   "cell_type": "markdown",
   "metadata": {},
   "source": [
    "$$ \\prod\\limits_{i=1}^{n} x_i - 1 $$"
   ]
  },
  {
   "cell_type": "markdown",
   "metadata": {},
   "source": [
    "### <u> Statistics</u>"
   ]
  },
  {
   "cell_type": "markdown",
   "metadata": {},
   "source": [
    "$$ max(S) = \\max\\limits_{i: S_i \\in \\{S\\}} S_i $$"
   ]
  },
  {
   "cell_type": "markdown",
   "metadata": {},
   "source": [
    "$$ min(S) = \\min\\limits_{i: x_i \\in \\{S\\}} x_i $$"
   ]
  },
  {
   "cell_type": "markdown",
   "metadata": {},
   "source": [
    "$$ \\frac{n!}{k!(n-k)!} = {n \\choose k} $$"
   ]
  },
  {
   "cell_type": "markdown",
   "metadata": {},
   "source": [
    "### <u> Calculus</u>"
   ]
  },
  {
   "cell_type": "markdown",
   "metadata": {},
   "source": [
    "$$ \\lim\\limits_{x \\to 0^+} {1 \\over 0} = \\infty $$"
   ]
  },
  {
   "cell_type": "markdown",
   "metadata": {},
   "source": [
    "$$ \\int\\limits_a^b 2x \\, dx $$"
   ]
  },
  {
   "cell_type": "markdown",
   "metadata": {},
   "source": [
    "### <u> Functions definition over periods</u> "
   ]
  },
  {
   "cell_type": "markdown",
   "metadata": {},
   "source": [
    "$f(x) = \n",
    "\\left\\{\n",
    "    \\begin{array}{ll}\n",
    "        0 & \\mbox{if } x = 0 \\\\\n",
    "        {1 \\over x} & \\mbox{if } x \\neq 0 \\\\\n",
    "    \\end{array}\n",
    "\\right.$"
   ]
  },
  {
   "cell_type": "markdown",
   "metadata": {},
   "source": [
    "$f(x) = \n",
    "\\left[\n",
    "    \\begin{array}{ll}\n",
    "        0 & \\mbox{if } x = 0 \\\\\n",
    "        {1 \\over x} & \\mbox{if } x \\neq 0 \\\\\n",
    "    \\end{array}\n",
    "\\right.$"
   ]
  },
  {
   "cell_type": "markdown",
   "metadata": {},
   "source": [
    "$f(x) = \n",
    "\\left(\n",
    "    \\begin{array}{ll}\n",
    "        0 & \\mbox{if } x = 0 \\\\\n",
    "        {1 \\over x} & \\mbox{if } x \\neq 0 \\\\\n",
    "    \\end{array}\n",
    "\\right.$"
   ]
  },
  {
   "cell_type": "markdown",
   "metadata": {},
   "source": [
    "***"
   ]
  },
  {
   "cell_type": "markdown",
   "metadata": {},
   "source": [
    "### Quiz "
   ]
  },
  {
   "cell_type": "markdown",
   "metadata": {},
   "source": [
    "#### Normal Distribution Formula"
   ]
  },
  {
   "cell_type": "markdown",
   "metadata": {},
   "source": [
    "$$ P(x, \\sigma, \\mu) = \\frac {1}{\\sigma\\sqrt(2\\pi)}e^{-(x-\\mu)^2/2\\sigma^2} $$"
   ]
  },
  {
   "cell_type": "markdown",
   "metadata": {},
   "source": [
    "$$ P(x, \\sigma, \\mu) = \\frac {1}{\\sigma\\sqrt(2\\pi)}e^{-(x-\\mu)^2/2\\sigma^2} $$"
   ]
  }
 ],
 "metadata": {
  "kernelspec": {
   "display_name": "Python 3",
   "language": "python",
   "name": "python3"
  },
  "language_info": {
   "codemirror_mode": {
    "name": "ipython",
    "version": 3
   },
   "file_extension": ".py",
   "mimetype": "text/x-python",
   "name": "python",
   "nbconvert_exporter": "python",
   "pygments_lexer": "ipython3",
   "version": "3.7.3"
  }
 },
 "nbformat": 4,
 "nbformat_minor": 2
}
