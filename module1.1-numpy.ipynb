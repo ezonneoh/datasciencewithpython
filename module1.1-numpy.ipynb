{
 "cells": [
  {
   "cell_type": "markdown",
   "metadata": {},
   "source": [
    "# **NumPy Array**"
   ]
  },
  {
   "cell_type": "markdown",
   "metadata": {},
   "source": [
    "- NumPy / Numerical Python is a library that specialises in handling numerical data.\n",
    "- With a regular Python list, we cannot perform element-wise operations.\n",
    "- NumPy solves this problem by using NumPy array."
   ]
  },
  {
   "cell_type": "code",
   "execution_count": 2,
   "metadata": {},
   "outputs": [],
   "source": [
    "import numpy as np"
   ]
  },
  {
   "cell_type": "code",
   "execution_count": 3,
   "metadata": {},
   "outputs": [],
   "source": [
    "heights = [1.73, 1.68, 1.71, 1.89]\n",
    "weights = [68, 59.5, 80, 81.3]"
   ]
  },
  {
   "cell_type": "code",
   "execution_count": 4,
   "metadata": {},
   "outputs": [
    {
     "name": "stdout",
     "output_type": "stream",
     "text": [
      "[22.72043837 21.08134921 27.35884546 22.75972117]\n"
     ]
    }
   ],
   "source": [
    "np_heights = np.array(heights) #create a Numpy array from list\n",
    "np_weights = np.array(weights)\n",
    "np_bmi = np_weights / np_heights ** 2\n",
    "print(np_bmi) #straightway calculate all the values in array"
   ]
  },
  {
   "cell_type": "markdown",
   "metadata": {},
   "source": [
    "- Filter the np_bmi array using Boolean comparison"
   ]
  },
  {
   "cell_type": "code",
   "execution_count": 5,
   "metadata": {},
   "outputs": [
    {
     "data": {
      "text/plain": [
       "array([22.72043837, 27.35884546, 22.75972117])"
      ]
     },
     "execution_count": 5,
     "metadata": {},
     "output_type": "execute_result"
    }
   ],
   "source": [
    "condition = np_bmi > 22\n",
    "np_bmi[condition]"
   ]
  },
  {
   "cell_type": "code",
   "execution_count": 6,
   "metadata": {},
   "outputs": [
    {
     "data": {
      "text/plain": [
       "array([22.72043837, 27.35884546, 22.75972117])"
      ]
     },
     "execution_count": 6,
     "metadata": {},
     "output_type": "execute_result"
    }
   ],
   "source": [
    "#Another way of doing it\n",
    "np_bmi[np_bmi > 22]"
   ]
  },
  {
   "cell_type": "markdown",
   "metadata": {},
   "source": [
    "***"
   ]
  },
  {
   "cell_type": "markdown",
   "metadata": {},
   "source": [
    "## 2D NumPy Array "
   ]
  },
  {
   "cell_type": "code",
   "execution_count": 7,
   "metadata": {},
   "outputs": [
    {
     "name": "stdout",
     "output_type": "stream",
     "text": [
      "(2, 5)\n"
     ]
    }
   ],
   "source": [
    "np_2d = np.array([[1.73, 1.68, 1.71, 1.89, 1.79],\n",
    "                 [65.4, 68.2, 86.1, 96.3, 50.0]])\n",
    "print(np_2d.shape) # Check the shape using the attributes (2 rows and 5 columns)"
   ]
  },
  {
   "cell_type": "markdown",
   "metadata": {},
   "source": [
    "**Subsetting NumPy array**"
   ]
  },
  {
   "cell_type": "code",
   "execution_count": 8,
   "metadata": {},
   "outputs": [
    {
     "data": {
      "text/plain": [
       "array([1.73, 1.68, 1.71, 1.89, 1.79])"
      ]
     },
     "execution_count": 8,
     "metadata": {},
     "output_type": "execute_result"
    }
   ],
   "source": [
    "np_2d[0] #return first row, all column"
   ]
  },
  {
   "cell_type": "code",
   "execution_count": 9,
   "metadata": {},
   "outputs": [
    {
     "data": {
      "text/plain": [
       "1.71"
      ]
     },
     "execution_count": 9,
     "metadata": {},
     "output_type": "execute_result"
    }
   ],
   "source": [
    "np_2d[0][2] #return first row, third column"
   ]
  },
  {
   "cell_type": "code",
   "execution_count": 10,
   "metadata": {},
   "outputs": [
    {
     "data": {
      "text/plain": [
       "1.71"
      ]
     },
     "execution_count": 10,
     "metadata": {},
     "output_type": "execute_result"
    }
   ],
   "source": [
    "np_2d[0,2] #same like above, return first row, third column"
   ]
  },
  {
   "cell_type": "code",
   "execution_count": 11,
   "metadata": {},
   "outputs": [
    {
     "data": {
      "text/plain": [
       "array([1.73, 1.71])"
      ]
     },
     "execution_count": 11,
     "metadata": {},
     "output_type": "execute_result"
    }
   ],
   "source": [
    "np_2d[0, [0,2]] #return first row, first and third column"
   ]
  },
  {
   "cell_type": "code",
   "execution_count": 12,
   "metadata": {},
   "outputs": [
    {
     "data": {
      "text/plain": [
       "array([[ 1.68,  1.71],\n",
       "       [68.2 , 86.1 ]])"
      ]
     },
     "execution_count": 12,
     "metadata": {},
     "output_type": "execute_result"
    }
   ],
   "source": [
    "np_2d[:, 1:3] #return all rows, second and third column"
   ]
  },
  {
   "cell_type": "markdown",
   "metadata": {},
   "source": [
    "***"
   ]
  },
  {
   "cell_type": "markdown",
   "metadata": {},
   "source": [
    "## Conditional Statements"
   ]
  },
  {
   "cell_type": "markdown",
   "metadata": {},
   "source": [
    "### If-Elif-Else  \n",
    "- If condition is met, then the portion of the code is executed."
   ]
  },
  {
   "cell_type": "code",
   "execution_count": 13,
   "metadata": {},
   "outputs": [
    {
     "name": "stdout",
     "output_type": "stream",
     "text": [
      "z is divisible by 3\n"
     ]
    }
   ],
   "source": [
    "z = 3\n",
    "\n",
    "if z % 2 == 0: #If remainder of z/2 is zero\n",
    "    print('z is divisible by 2')\n",
    "elif z % 3 ==0: #If remainder of z/3 is zero\n",
    "    print('z is divisible by 3')\n",
    "else:\n",
    "    print('z is not divisible by 2 or 3')"
   ]
  },
  {
   "cell_type": "markdown",
   "metadata": {},
   "source": [
    "### While loop\n",
    "- while loop is a repeated if statement\n",
    "- it will run as long as the condition is met\n",
    "- have to be extra careful to avoid the while loop from running forever"
   ]
  },
  {
   "cell_type": "code",
   "execution_count": 14,
   "metadata": {},
   "outputs": [
    {
     "name": "stdout",
     "output_type": "stream",
     "text": [
      "5\n",
      "4\n",
      "3\n",
      "2\n",
      "1\n",
      "0\n",
      ".\n",
      ".\n",
      ".\n",
      "Up up and away\n"
     ]
    }
   ],
   "source": [
    "counter = 5\n",
    "\n",
    "while counter >= 0:\n",
    "    print(counter)\n",
    "    counter = counter - 1\n",
    "print('.\\n.\\n.')\n",
    "print('Up up and away')"
   ]
  },
  {
   "cell_type": "markdown",
   "metadata": {},
   "source": [
    "### For loop\n",
    "- for loop executes an expression for each element in a sequence\n",
    "- useful when looping through a collection of elements such as in a list"
   ]
  },
  {
   "cell_type": "code",
   "execution_count": 15,
   "metadata": {},
   "outputs": [
    {
     "name": "stdout",
     "output_type": "stream",
     "text": [
      "father\n",
      "mother\n",
      "sister\n",
      "brother\n",
      "baby\n"
     ]
    }
   ],
   "source": [
    "family = ['father', 'mother', 'sister', 'brother', 'baby']\n",
    "\n",
    "for siblings in family:\n",
    "    print(siblings)"
   ]
  },
  {
   "cell_type": "markdown",
   "metadata": {},
   "source": [
    "- using the enumerate function, we can print incremental index in a 'for' loop. "
   ]
  },
  {
   "cell_type": "code",
   "execution_count": 16,
   "metadata": {},
   "outputs": [
    {
     "name": "stdout",
     "output_type": "stream",
     "text": [
      "1 father\n",
      "2 mother\n",
      "3 sister\n",
      "4 brother\n",
      "5 baby\n"
     ]
    }
   ],
   "source": [
    "for i, siblings in enumerate(family):\n",
    "    print('{} {}'.format(i+1, siblings))"
   ]
  },
  {
   "cell_type": "markdown",
   "metadata": {},
   "source": [
    "- for loop is also useful in printing dictionaries\n",
    "- use the items() method on your dictionary"
   ]
  },
  {
   "cell_type": "code",
   "execution_count": 17,
   "metadata": {},
   "outputs": [
    {
     "name": "stdout",
     "output_type": "stream",
     "text": [
      "Yusuf's height is 1.73m\n",
      "Fatimah's height is 1.68m\n",
      "Aisyah's height is 1.71m\n",
      "Ismail's height is 1.89m\n"
     ]
    }
   ],
   "source": [
    "heights_dict = {'Yusuf':1.73, 'Fatimah':1.68, 'Aisyah':1.71, 'Ismail':1.89}\n",
    "for k,v in heights_dict.items():\n",
    "    print('{}\\'s height is {}m'.format(k,v))"
   ]
  }
 ],
 "metadata": {
  "kernelspec": {
   "display_name": "Python 3",
   "language": "python",
   "name": "python3"
  },
  "language_info": {
   "codemirror_mode": {
    "name": "ipython",
    "version": 3
   },
   "file_extension": ".py",
   "mimetype": "text/x-python",
   "name": "python",
   "nbconvert_exporter": "python",
   "pygments_lexer": "ipython3",
   "version": "3.7.3"
  }
 },
 "nbformat": 4,
 "nbformat_minor": 2
}
