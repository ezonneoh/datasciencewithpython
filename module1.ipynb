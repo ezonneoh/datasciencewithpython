{
 "cells": [
  {
   "cell_type": "markdown",
   "metadata": {},
   "source": [
    "# **Basic Python**"
   ]
  },
  {
   "cell_type": "markdown",
   "metadata": {},
   "source": [
    "## Entering Input"
   ]
  },
  {
   "cell_type": "code",
   "execution_count": 1,
   "metadata": {},
   "outputs": [
    {
     "name": "stdout",
     "output_type": "stream",
     "text": [
      "3.7.3 (default, Mar 27 2019, 17:13:21) [MSC v.1915 64 bit (AMD64)]\n"
     ]
    }
   ],
   "source": [
    "import sys\n",
    "print(sys.version)"
   ]
  },
  {
   "cell_type": "code",
   "execution_count": 2,
   "metadata": {},
   "outputs": [
    {
     "data": {
      "text/plain": [
       "8"
      ]
     },
     "execution_count": 2,
     "metadata": {},
     "output_type": "execute_result"
    }
   ],
   "source": [
    "2**3 #2^3"
   ]
  },
  {
   "cell_type": "code",
   "execution_count": 3,
   "metadata": {},
   "outputs": [
    {
     "data": {
      "text/plain": [
       "'Today is a good day'"
      ]
     },
     "execution_count": 3,
     "metadata": {},
     "output_type": "execute_result"
    }
   ],
   "source": [
    "'Today is a good day'"
   ]
  },
  {
   "cell_type": "code",
   "execution_count": 4,
   "metadata": {},
   "outputs": [
    {
     "data": {
      "text/plain": [
       "'The instructor is quite a catch'"
      ]
     },
     "execution_count": 4,
     "metadata": {},
     "output_type": "execute_result"
    }
   ],
   "source": [
    "\"The instructor is quite a catch\""
   ]
  },
  {
   "cell_type": "code",
   "execution_count": 8,
   "metadata": {},
   "outputs": [
    {
     "data": {
      "text/plain": [
       "'Hello, this is a very long string. You are currently in the best university in Malaysia. UM is ranked at 87th spot in the entire planet! How cool is that? Be sure to snap some photos while you are around.'"
      ]
     },
     "execution_count": 8,
     "metadata": {},
     "output_type": "execute_result"
    }
   ],
   "source": [
    "#triple quote ('''   ''') tells Python to create multiline string.\n",
    "'''Hello, this is a very long string. You are currently in the best university in Malaysia. UM is ranked at 87th spot in the entire planet! How cool is that? Be sure \\\n",
    "to snap some photos while you are around.'''"
   ]
  },
  {
   "cell_type": "markdown",
   "metadata": {},
   "source": [
    "***"
   ]
  },
  {
   "cell_type": "markdown",
   "metadata": {},
   "source": [
    "## Variables and Types"
   ]
  },
  {
   "cell_type": "code",
   "execution_count": 9,
   "metadata": {},
   "outputs": [],
   "source": [
    "height = 1.79\n",
    "weight = 68.7"
   ]
  },
  {
   "cell_type": "code",
   "execution_count": 10,
   "metadata": {},
   "outputs": [
    {
     "name": "stdout",
     "output_type": "stream",
     "text": [
      "My height is 1.79m and my weight is 68.7kg\n"
     ]
    }
   ],
   "source": [
    "print('My height is {}m and my weight is {}kg'.format(height,weight))"
   ]
  },
  {
   "cell_type": "code",
   "execution_count": 11,
   "metadata": {},
   "outputs": [
    {
     "name": "stdout",
     "output_type": "stream",
     "text": [
      "My height is 1.79m and my weight is 68.7kg\n"
     ]
    }
   ],
   "source": [
    "print('My height is ' + str(height) + 'm and my weight is ' + str(weight) + 'kg')"
   ]
  },
  {
   "cell_type": "code",
   "execution_count": 12,
   "metadata": {},
   "outputs": [
    {
     "name": "stdout",
     "output_type": "stream",
     "text": [
      "My height is 1.79m and my weight is 68.7kg\n"
     ]
    }
   ],
   "source": [
    "print('My height is %.2fm and my weight is %.1fkg' %(height,weight))"
   ]
  },
  {
   "cell_type": "code",
   "execution_count": 13,
   "metadata": {},
   "outputs": [
    {
     "data": {
      "text/plain": [
       "'My height is 1.79m and my weight is 68.7kg'"
      ]
     },
     "execution_count": 13,
     "metadata": {},
     "output_type": "execute_result"
    }
   ],
   "source": [
    "f'My height is {height}m and my weight is {weight}kg'"
   ]
  },
  {
   "cell_type": "code",
   "execution_count": 14,
   "metadata": {},
   "outputs": [
    {
     "name": "stdout",
     "output_type": "stream",
     "text": [
      "Hang Tuah's height is 1.79. But I dont think his weight is 68.7kg\n"
     ]
    }
   ],
   "source": [
    "first_name = 'Hang'\n",
    "last_name = 'Tuah'\n",
    "print('{} {}\\'s height is {}. But I dont think his weight is {}kg'.format(first_name, last_name, height, weight))"
   ]
  },
  {
   "cell_type": "code",
   "execution_count": 15,
   "metadata": {},
   "outputs": [
    {
     "data": {
      "text/plain": [
       "str"
      ]
     },
     "execution_count": 15,
     "metadata": {},
     "output_type": "execute_result"
    }
   ],
   "source": [
    "type(first_name)"
   ]
  },
  {
   "cell_type": "code",
   "execution_count": 16,
   "metadata": {},
   "outputs": [],
   "source": [
    "bmi = weight / height **2 \n",
    "#height**2 = height^2"
   ]
  },
  {
   "cell_type": "code",
   "execution_count": 17,
   "metadata": {},
   "outputs": [
    {
     "name": "stdout",
     "output_type": "stream",
     "text": [
      "21.44\n"
     ]
    }
   ],
   "source": [
    "print('{:.2f}'.format(bmi)) #string formatter {:.2f} - to print bmi in 2 decimal places"
   ]
  },
  {
   "cell_type": "code",
   "execution_count": 19,
   "metadata": {},
   "outputs": [
    {
     "data": {
      "text/plain": [
       "'Hang Tuah'"
      ]
     },
     "execution_count": 19,
     "metadata": {},
     "output_type": "execute_result"
    }
   ],
   "source": [
    "first_name + ' ' + last_name"
   ]
  },
  {
   "cell_type": "code",
   "execution_count": 22,
   "metadata": {},
   "outputs": [
    {
     "name": "stdout",
     "output_type": "stream",
     "text": [
      "Hang Tuah has a bmi of 21.44127836209856\n"
     ]
    }
   ],
   "source": [
    "print('{} {} has a bmi of {}'.format(first_name, last_name, bmi)) #floating number"
   ]
  },
  {
   "cell_type": "code",
   "execution_count": 24,
   "metadata": {},
   "outputs": [
    {
     "name": "stdout",
     "output_type": "stream",
     "text": [
      "Hang Tuah has a bmi of 21.44\n"
     ]
    }
   ],
   "source": [
    "print('{} {} has a bmi of {:.2f}'.format(first_name, last_name, bmi)) #turns bmi into 2 decimal places"
   ]
  },
  {
   "cell_type": "code",
   "execution_count": 32,
   "metadata": {},
   "outputs": [
    {
     "name": "stdout",
     "output_type": "stream",
     "text": [
      "HangTuah\n"
     ]
    },
    {
     "data": {
      "text/plain": [
       "str"
      ]
     },
     "execution_count": 32,
     "metadata": {},
     "output_type": "execute_result"
    }
   ],
   "source": [
    "#Observe the different behaviour of the following operation\n",
    "a = first_name + last_name\n",
    "b = height + weight\n",
    "print(a)\n",
    "type(a)"
   ]
  },
  {
   "cell_type": "code",
   "execution_count": 33,
   "metadata": {},
   "outputs": [
    {
     "name": "stdout",
     "output_type": "stream",
     "text": [
      "70.49000000000001\n"
     ]
    },
    {
     "data": {
      "text/plain": [
       "float"
      ]
     },
     "execution_count": 33,
     "metadata": {},
     "output_type": "execute_result"
    }
   ],
   "source": [
    "print(b)\n",
    "type(b)"
   ]
  },
  {
   "cell_type": "markdown",
   "metadata": {},
   "source": [
    "***"
   ]
  },
  {
   "cell_type": "markdown",
   "metadata": {},
   "source": [
    "## List\n",
    "- A single list can hold different data types. Integer, floating number, string and even list!"
   ]
  },
  {
   "cell_type": "code",
   "execution_count": 34,
   "metadata": {},
   "outputs": [],
   "source": [
    "heights = [1.73, 1.68, 1.71, 1.89]\n",
    "weights = [68, 59.5, 80, 81.3]"
   ]
  },
  {
   "cell_type": "code",
   "execution_count": 35,
   "metadata": {},
   "outputs": [],
   "source": [
    "heights_var = ['Yusuf', 1.73, 'Fatimah', 1.68, 'Aisyah', 1.71, 'Ismail', 1.89]\n",
    "heights_lists = [['Yusuf', 1.73], ['Fatimah', 1.68], ['Aisyah', 1.71], ['Ismail', 1.89]]"
   ]
  },
  {
   "cell_type": "code",
   "execution_count": 36,
   "metadata": {},
   "outputs": [
    {
     "data": {
      "text/plain": [
       "['Fatimah', 1.68]"
      ]
     },
     "execution_count": 36,
     "metadata": {},
     "output_type": "execute_result"
    }
   ],
   "source": [
    "heights_var[2:4]"
   ]
  },
  {
   "cell_type": "code",
   "execution_count": 37,
   "metadata": {},
   "outputs": [
    {
     "data": {
      "text/plain": [
       "1.89"
      ]
     },
     "execution_count": 37,
     "metadata": {},
     "output_type": "execute_result"
    }
   ],
   "source": [
    "heights_var[-1]"
   ]
  },
  {
   "cell_type": "code",
   "execution_count": 38,
   "metadata": {},
   "outputs": [
    {
     "data": {
      "text/plain": [
       "['Fatimah', 'Ismail']"
      ]
     },
     "execution_count": 38,
     "metadata": {},
     "output_type": "execute_result"
    }
   ],
   "source": [
    "list(heights_var[i] for i in [2,6]) #print heights[2] and heights[6] in a list"
   ]
  },
  {
   "cell_type": "code",
   "execution_count": 40,
   "metadata": {},
   "outputs": [
    {
     "data": {
      "text/plain": [
       "['Yusuf', 1.73, 'Emily', 1.68, 'Aisyah', 1.71, 'Ismail', 1.89]"
      ]
     },
     "execution_count": 40,
     "metadata": {},
     "output_type": "execute_result"
    }
   ],
   "source": [
    "heights_var[2] = 'Emily' #change or update a value in the list\n",
    "heights_var"
   ]
  },
  {
   "cell_type": "code",
   "execution_count": 41,
   "metadata": {},
   "outputs": [
    {
     "data": {
      "text/plain": [
       "['Kamarul', 1.88, 'Emily', 1.68, 'Aisyah', 1.71, 'Ismail', 1.89]"
      ]
     },
     "execution_count": 41,
     "metadata": {},
     "output_type": "execute_result"
    }
   ],
   "source": [
    "heights_var[0:2] = ['Kamarul', 1.88] #change or update multiple values in a range\n",
    "heights_var"
   ]
  },
  {
   "cell_type": "code",
   "execution_count": 42,
   "metadata": {},
   "outputs": [
    {
     "name": "stdout",
     "output_type": "stream",
     "text": [
      "['Kamarul', 1.88, 'Emily', 1.68, 'Aisyah', 1.71, 'Ismail', 1.89, 'Razak', 1.61]\n",
      "['Kamarul', 1.88, 'Emily', 1.68, 'Aisyah', 1.71, 'Ismail', 1.89]\n"
     ]
    }
   ],
   "source": [
    "print(heights_var + ['Razak', 1.61]) #add new value\n",
    "print(heights_var)\n",
    "#however this does not edit the original heights_var list"
   ]
  },
  {
   "cell_type": "code",
   "execution_count": 43,
   "metadata": {},
   "outputs": [
    {
     "data": {
      "text/plain": [
       "['Kamarul', 1.88, 'Emily', 1.68, 'Aisyah', 1.71, 'Ismail', 1.89, 'Razak']"
      ]
     },
     "execution_count": 43,
     "metadata": {},
     "output_type": "execute_result"
    }
   ],
   "source": [
    "heights_var.append('Razak') #use append only for single value\n",
    "heights_var #when repeated many times, Razak will be add accordingly"
   ]
  },
  {
   "cell_type": "code",
   "execution_count": 45,
   "metadata": {},
   "outputs": [
    {
     "data": {
      "text/plain": [
       "['Kamarul',\n",
       " 1.88,\n",
       " 'Emily',\n",
       " 1.68,\n",
       " 'Aisyah',\n",
       " 1.71,\n",
       " 'Ismail',\n",
       " 1.89,\n",
       " 'Razak',\n",
       " 'Razak',\n",
       " 1.61,\n",
       " 'Razak',\n",
       " 1.61]"
      ]
     },
     "execution_count": 45,
     "metadata": {},
     "output_type": "execute_result"
    }
   ],
   "source": [
    "heights_var.extend(['Razak', 1.61])\n",
    "heights_var"
   ]
  },
  {
   "cell_type": "code",
   "execution_count": 47,
   "metadata": {},
   "outputs": [
    {
     "data": {
      "text/plain": [
       "['Kamarul', 1.88, 'Emily', 1.68, 'Aisyah', 1.71, 'Ismail', 1.89]"
      ]
     },
     "execution_count": 47,
     "metadata": {},
     "output_type": "execute_result"
    }
   ],
   "source": [
    "#To delete elements from a list\n",
    "del(heights_var[8:])\n",
    "heights_var"
   ]
  },
  {
   "cell_type": "markdown",
   "metadata": {},
   "source": [
    "***"
   ]
  },
  {
   "cell_type": "markdown",
   "metadata": {},
   "source": [
    "## Dictionary\n",
    "- Storing heights and weights in two separate lists is definitely troublesome.\n",
    "- You can improve this by creating a dictionary."
   ]
  },
  {
   "cell_type": "code",
   "execution_count": 49,
   "metadata": {},
   "outputs": [],
   "source": [
    "heights_dict = {'Kamarul': 1.88, 'Emily': 1.68, 'Aisyah': 1.71, 'Robert': 2.21}"
   ]
  },
  {
   "cell_type": "code",
   "execution_count": 50,
   "metadata": {},
   "outputs": [
    {
     "data": {
      "text/plain": [
       "1.68"
      ]
     },
     "execution_count": 50,
     "metadata": {},
     "output_type": "execute_result"
    }
   ],
   "source": [
    "heights_dict['Emily']"
   ]
  }
 ],
 "metadata": {
  "kernelspec": {
   "display_name": "Python 3",
   "language": "python",
   "name": "python3"
  },
  "language_info": {
   "codemirror_mode": {
    "name": "ipython",
    "version": 3
   },
   "file_extension": ".py",
   "mimetype": "text/x-python",
   "name": "python",
   "nbconvert_exporter": "python",
   "pygments_lexer": "ipython3",
   "version": "3.7.3"
  }
 },
 "nbformat": 4,
 "nbformat_minor": 2
}
